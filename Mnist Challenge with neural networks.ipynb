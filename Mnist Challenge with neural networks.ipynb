{
 "cells": [
  {
   "cell_type": "markdown",
   "id": "a2824bb3",
   "metadata": {},
   "source": [
    "# Imports "
   ]
  },
  {
   "cell_type": "code",
   "execution_count": 47,
   "id": "5aa012c1",
   "metadata": {},
   "outputs": [],
   "source": [
    "import numpy as np\n",
    "import pandas as pd\n",
    "import matplotlib.pyplot as plt\n",
    "import tensorflow as tf\n",
    "\n",
    "\n",
    "from tensorflow import keras\n",
    "from sklearn.metrics import precision_score,recall_score,confusion_matrix"
   ]
  },
  {
   "cell_type": "markdown",
   "id": "742899da",
   "metadata": {},
   "source": [
    "# Get the data"
   ]
  },
  {
   "cell_type": "code",
   "execution_count": 6,
   "id": "7c026981",
   "metadata": {},
   "outputs": [],
   "source": [
    "data = keras.datasets.mnist"
   ]
  },
  {
   "cell_type": "code",
   "execution_count": 9,
   "id": "0eaedaec",
   "metadata": {},
   "outputs": [],
   "source": [
    "(X_train_full,y_train_full),(X_test,y_test) = data.load_data()"
   ]
  },
  {
   "cell_type": "code",
   "execution_count": 14,
   "id": "eb42ed75",
   "metadata": {},
   "outputs": [
    {
     "data": {
      "text/plain": [
       "(60000, 28, 28)"
      ]
     },
     "execution_count": 14,
     "metadata": {},
     "output_type": "execute_result"
    }
   ],
   "source": [
    "X_train_full.shape"
   ]
  },
  {
   "cell_type": "markdown",
   "id": "292dd69f",
   "metadata": {},
   "source": [
    "# Prepare the data"
   ]
  },
  {
   "cell_type": "code",
   "execution_count": 15,
   "id": "a7727f93",
   "metadata": {},
   "outputs": [],
   "source": [
    "X_valid, X_train = X_train_full[:5000] / 255.0 , X_train_full[5000:] / 255.0\n",
    "y_valid, y_train = y_train_full[:5000]  , y_train_full[5000:]\n",
    "X_test = X_test / 255.0"
   ]
  },
  {
   "cell_type": "markdown",
   "id": "94c96652",
   "metadata": {},
   "source": [
    "# Show an image"
   ]
  },
  {
   "cell_type": "code",
   "execution_count": 27,
   "id": "5a45ac97",
   "metadata": {},
   "outputs": [
    {
     "data": {
      "image/png": "[encoded data removed]",
      "text/plain": [
       "<Figure size 432x288 with 1 Axes>"
      ]
     },
     "metadata": {
      "needs_background": "light"
     },
     "output_type": "display_data"
    },
    {
     "data": {
      "text/plain": [
       "6"
      ]
     },
     "execution_count": 27,
     "metadata": {},
     "output_type": "execute_result"
    }
   ],
   "source": [
    "show_val = 6000\n",
    "\n",
    "plt.imshow(X_train[show_val], cmap=\"binary\", interpolation=\"nearest\")\n",
    "plt.axis('off')\n",
    "plt.show()\n",
    "y_train[show_val]"
   ]
  },
  {
   "cell_type": "markdown",
   "id": "fdea8784",
   "metadata": {},
   "source": [
    "# Create our neural network"
   ]
  },
  {
   "cell_type": "code",
   "execution_count": 28,
   "id": "393c080b",
   "metadata": {},
   "outputs": [],
   "source": [
    "model = keras.models.Sequential()\n",
    "model.add(keras.layers.Flatten(input_shape=[28,28]))\n",
    "model.add(keras.layers.Dense(150,activation=\"relu\"))\n",
    "model.add(keras.layers.Dense(150,activation=\"relu\"))\n",
    "model.add(keras.layers.Dense(10,activation=\"softmax\"))"
   ]
  },
  {
   "cell_type": "code",
   "execution_count": 29,
   "id": "40588226",
   "metadata": {},
   "outputs": [
    {
     "name": "stdout",
     "output_type": "stream",
     "text": [
      "Model: \"sequential\"\n",
      "_________________________________________________________________\n",
      " Layer (type)                Output Shape              Param #   \n",
      "=================================================================\n",
      " flatten (Flatten)           (None, 784)               0         \n",
      "                                                                 \n",
      " dense (Dense)               (None, 150)               117750    \n",
      "                                                                 \n",
      " dense_1 (Dense)             (None, 150)               22650     \n",
      "                                                                 \n",
      " dense_2 (Dense)             (None, 10)                1510      \n",
      "                                                                 \n",
      "=================================================================\n",
      "Total params: 141,910\n",
      "Trainable params: 141,910\n",
      "Non-trainable params: 0\n",
      "_________________________________________________________________\n"
     ]
    }
   ],
   "source": [
    "model.summary()"
   ]
  },
  {
   "cell_type": "markdown",
   "id": "54a490ea",
   "metadata": {},
   "source": [
    "# Compile the neural network"
   ]
  },
  {
   "cell_type": "code",
   "execution_count": 35,
   "id": "70177306",
   "metadata": {},
   "outputs": [],
   "source": [
    "model.compile(loss=keras.losses.sparse_categorical_crossentropy,optimizer=keras.optimizers.SGD(),metrics=[\"accuracy\"])"
   ]
  },
  {
   "cell_type": "markdown",
   "id": "bc2e2a7e",
   "metadata": {},
   "source": [
    "# Implementing early stopping, & checkpoints"
   ]
  },
  {
   "cell_type": "code",
   "execution_count": null,
   "id": "710ee5e7",
   "metadata": {},
   "outputs": [],
   "source": [
    "checkpoint_cb = keras.callbacks.ModelCheckpoint(\"MNIST_CLASSIFIER.h5\", save_best_only=True)\n",
    "early_stopping_cb = keras.callbacks.EarlyStopping(patience=10, restore_best_weights=True)\n",
    "\n",
    "\n",
    "history = model.fit(X_train, y_train, epochs=100,validation_data=(X_valid, y_valid),\n",
    "                    callbacks=[checkpoint_cb, early_stopping_cb])\n"
   ]
  },
  {
   "cell_type": "markdown",
   "id": "a685ded2",
   "metadata": {},
   "source": [
    "# Making predictions"
   ]
  },
  {
   "cell_type": "code",
   "execution_count": 38,
   "id": "a13ab2dd",
   "metadata": {},
   "outputs": [
    {
     "name": "stdout",
     "output_type": "stream",
     "text": [
      "157/157 [==============================] - 1s 3ms/step\n"
     ]
    }
   ],
   "source": [
    "y_pred = np.argmax(model.predict(X_valid),axis=1)"
   ]
  },
  {
   "cell_type": "code",
   "execution_count": 67,
   "id": "9468aa25",
   "metadata": {},
   "outputs": [
    {
     "name": "stdout",
     "output_type": "stream",
     "text": [
      "313/313 [==============================] - 1s 4ms/step\n"
     ]
    }
   ],
   "source": [
    "y_pred_test = np.argmax(model.predict(X_test),axis=1)"
   ]
  },
  {
   "cell_type": "markdown",
   "id": "b5d8f81c",
   "metadata": {},
   "source": [
    "# Performance mesuares"
   ]
  },
  {
   "cell_type": "code",
   "execution_count": 44,
   "id": "744fee6c",
   "metadata": {
    "scrolled": true
   },
   "outputs": [
    {
     "data": {
      "text/plain": [
       "(0.9808, 0.9808)"
      ]
     },
     "execution_count": 44,
     "metadata": {},
     "output_type": "execute_result"
    }
   ],
   "source": [
    "precision_score(y_valid,y_pred,average=\"micro\"),recall_score(y_valid,y_pred,average=\"micro\")"
   ]
  },
  {
   "cell_type": "code",
   "execution_count": 49,
   "id": "ba1e3c55",
   "metadata": {},
   "outputs": [
    {
     "data": {
      "text/plain": [
       "array([[476,   0,   0,   1,   0,   1,   0,   1,   0,   0],\n",
       "       [  0, 556,   1,   3,   0,   0,   1,   0,   1,   1],\n",
       "       [  0,   3, 471,   3,   3,   1,   2,   1,   4,   0],\n",
       "       [  0,   0,   1, 483,   0,   3,   1,   4,   0,   1],\n",
       "       [  0,   0,   2,   0, 531,   0,   1,   0,   0,   1],\n",
       "       [  0,   1,   1,   3,   1, 425,   2,   1,   0,   0],\n",
       "       [  3,   2,   0,   0,   1,   3, 492,   0,   0,   0],\n",
       "       [  1,   2,   1,   0,   0,   0,   0, 543,   0,   3],\n",
       "       [  1,   2,   0,   3,   1,   3,   1,   0, 450,   1],\n",
       "       [  3,   1,   0,   3,   6,   0,   1,   4,   0, 477]], dtype=int64)"
      ]
     },
     "execution_count": 49,
     "metadata": {},
     "output_type": "execute_result"
    }
   ],
   "source": [
    "confusion_matrix(y_valid,y_pred)"
   ]
  },
  {
   "cell_type": "markdown",
   "id": "618ca845",
   "metadata": {},
   "source": [
    "# Final Results in test data"
   ]
  },
  {
   "cell_type": "code",
   "execution_count": 46,
   "id": "ee1a12b6",
   "metadata": {
    "scrolled": false
   },
   "outputs": [
    {
     "data": {
      "text/plain": [
       "(0.9776, 0.9776)"
      ]
     },
     "execution_count": 46,
     "metadata": {},
     "output_type": "execute_result"
    }
   ],
   "source": [
    "precision_score(y_test,y_pred_test,average=\"micro\"),recall_score(y_test,y_pred_test,average=\"micro\")"
   ]
  },
  {
   "cell_type": "code",
   "execution_count": 48,
   "id": "207ec074",
   "metadata": {
    "scrolled": false
   },
   "outputs": [
    {
     "data": {
      "text/plain": [
       "array([[ 968,    0,    1,    1,    1,    3,    1,    1,    2,    2],\n",
       "       [   0, 1125,    4,    0,    0,    1,    2,    1,    2,    0],\n",
       "       [   4,    4, 1006,    4,    2,    0,    3,    4,    5,    0],\n",
       "       [   0,    0,    4,  987,    0,    6,    0,    5,    3,    5],\n",
       "       [   0,    0,    6,    0,  964,    0,    2,    3,    1,    6],\n",
       "       [   3,    0,    0,    8,    2,  869,    4,    0,    3,    3],\n",
       "       [   4,    3,    1,    1,    5,    4,  938,    0,    2,    0],\n",
       "       [   1,    5,    8,    0,    1,    0,    0, 1004,    3,    6],\n",
       "       [   4,    1,    3,    5,    4,    5,    3,    2,  945,    2],\n",
       "       [   2,    2,    0,    8,   14,    4,    0,    5,    4,  970]],\n",
       "      dtype=int64)"
      ]
     },
     "execution_count": 48,
     "metadata": {},
     "output_type": "execute_result"
    }
   ],
   "source": [
    "confusion_matrix(y_test,y_pred_test)"
   ]
  },
  {
   "cell_type": "code",
   "execution_count": 79,
   "id": "e0782277",
   "metadata": {
    "scrolled": true
   },
   "outputs": [
    {
     "data": {
      "image/png": "[encoded data removed]",
      "text/plain": [
       "<Figure size 432x288 with 1 Axes>"
      ]
     },
     "metadata": {
      "needs_background": "light"
     },
     "output_type": "display_data"
    },
    {
     "name": "stdout",
     "output_type": "stream",
     "text": [
      "1/1 [==============================] - 0s 38ms/step\n",
      "Original value: 9\n",
      "Predicted value: 9\n"
     ]
    }
   ],
   "source": [
    "show_val = 12\n",
    "\n",
    "plt.imshow(X_test[show_val], cmap=\"binary\", interpolation=\"nearest\")\n",
    "plt.axis('off')\n",
    "plt.show()\n",
    "\n",
    "y_prediction = np.argmax(model.predict(X_test[show_val]),axis=1)[0]\n",
    "\n",
    "print(f\"Original value: {y_test[show_val]}\")\n",
    "print(f\"Predicted value: {y_prediction}\")"
   ]
  },
  {
   "cell_type": "code",
   "execution_count": 80,
   "id": "c180c7fd",
   "metadata": {},
   "outputs": [],
   "source": [
    "model.save(\"MNIST_CLASSIFIER.h5\")"
   ]
  }
 ],
 "metadata": {
  "kernelspec": {
   "display_name": "Python 3 (ipykernel)",
   "language": "python",
   "name": "python3"
  },
  "language_info": {
   "codemirror_mode": {
    "name": "ipython",
    "version": 3
   },
   "file_extension": ".py",
   "mimetype": "text/x-python",
   "name": "python",
   "nbconvert_exporter": "python",
   "pygments_lexer": "ipython3",
   "version": "3.9.1"
  }
 },
 "nbformat": 4,
 "nbformat_minor": 5
}
